{
 "cells": [
  {
   "cell_type": "markdown",
   "id": "992cddb8",
   "metadata": {},
   "source": [
    "<!-- This is used for Markdown rendering -->\n",
    "<script\n",
    "  src=\"https://cdn.mathjax.org/mathjax/latest/MathJax.js?config=TeX-AMS-MML_HTMLorMML\"\n",
    "  type=\"text/javascript\">\n",
    "</script>\n",
    "<small>Base article: [PySDR](https://pysdr.org/)</small>"
   ]
  },
  {
   "cell_type": "markdown",
   "id": "c51dc9b6",
   "metadata": {},
   "source": [
    "# Fourier transform [art.](https://pysdr.org/content/frequency_domain.html#fourier-series)\n",
    "## *Continuous:*\n",
    "Time Domain -> Freq Domain: $X(f) = \\int x(t) e^{-j2\\pi ft} dt$<br/>\n",
    "Freq Domain -> Time Domain: $x(t) = \\frac{1}{2\\pi} \\int X(f)e^{j2\\pi ft} df$\n",
    "\n",
    "Angular Frequency: $w = 2\\pi f$\n",
    "\n",
    "## *Discrete:*\n",
    "$$X_k = \\sum^{N-1}_{n=0} x_n e^{-(\\frac{j2π}{N})kn}$$\n",
    "\n",
    "## Time-Frequency properties\n",
    "1. Linear Property:<br/>\n",
    "$ax(t) + by(t) \\leftrightarrow aX(f) + bY(f)$\n",
    "\n",
    "2. Frequency Shift Property:<br/>\n",
    "If we take a signal x(t) and multiply it by a sine wave, in the frequency domain, we'll get X(f) but shifted by a frequency f0;<br/>\n",
    "$e^{2\\pi jf_0t}x(t) \\leftrightarrow X(f-f_0)$\n",
    "\n",
    "3. Scaling in Time Property\n",
    "$x(at) \\leftrightarrow X(\\frac{f}{a})$<br/>\n",
    "Scaling in time domain causes inverse scaling in the frequency domain. => The reason why higher data rate takes more bandwidth/spectrum.\n",
    "\n",
    "4. Convolution In Time Property<br/>\n",
    "$\\int x(\\tau) y(t - \\tau) d\\tau \\leftrightarrow X(f)Y(f)$<br/>\n",
    "Called convolution property because convolving x(t) & y(t) in time domain.\n",
    "\n",
    "5. Convolution in Frequency Property<br/>\n",
    "$x(t)y(t) \\leftrightarrow \\int X(g)Y(f-g)dg$\n"
   ]
  },
  {
   "cell_type": "markdown",
   "id": "672384da",
   "metadata": {},
   "source": [
    "# Fast Fourier Transform (FFT) [art.](https://pysdr.org/content/frequency_domain.html#fast-fourier-transform-fft)\n",
    "Algorithm to compute the DFT, most efficient at the moment. Take one input, has one output. Converts input signal from time to frequency domain.\n",
    "\n",
    "Because output is in frequency domain, the span of the x-axis is based on the **sample rate**."
   ]
  },
  {
   "cell_type": "markdown",
   "id": "616d8dd5",
   "metadata": {},
   "source": [
    "# IQ Sampling [art.](https://pysdr.org/content/sampling.html)\n",
    "<small>a.k.a. Complex/Quadrature Sampling</small>\n",
    "\n",
    "## Sampling basics\n",
    "Sampling: Grabbing values from a function at regular moments in time.<br/>\n",
    "E.g.: $S(t)$, random continuous function. We'll record the value of $S(t)$ at regular intervals of *T* seconds; the *sample period*. *Sample Rate* = $\\frac{1}{T}$.\n",
    "\n",
    "Mathematically, the sampling process is $S_n = S(nT)$ w/ n, an integer usually starting at 0.\n",
    "\n",
    "## Nyquist Sampling\n",
    "How fast must we sample ? With a sine function of frequency $f$ and a sample rate $Fs = f$. The reconstruction of this sampling will be a constant.\n",
    "<img alt=\"Fs = f\" src=\"https://pysdr.org/_images/sampling_Fs_0.3.svg\" title=\"Fs = f emulates a constant function\"/>\n",
    "<img alt=\"Fs = 1.2 * f\" src=\"https://pysdr.org/_images/sampling_Fs_0.36.svg\" title=\"sampling of 1.2 * f\" />\n",
    "<img alt=\"Fs = 1.5 * f\" src=\"https://pysdr.org/_images/sampling_Fs_0.45.svg\" title=\"sampling of 1.5 * f\" />\n",
    "\n",
    "We need to sample at **twice** the frequency to remove any ambiguity. The minimum rate at which we can sample is called the *Nyquist Rate*.\n",
    "\n",
    "When we don't sample fast enough, we get aliasing."
   ]
  },
  {
   "cell_type": "markdown",
   "id": "5b87d89b",
   "metadata": {},
   "source": [
    "## Quadrature Sampling\n",
    "Quadrature refers to waves that are 90 degrees out of phase.\n",
    "\n",
    "Let's have:\n",
    "$$Icos(2\\pi ft)$$\n",
    "$$Qsin(2\\pi ft)$$\n",
    "\n",
    "$cos()$ will ere be the \"in phase\" component. When transmitting an RF signal, the transmitter add the $sin()$ and the $cos()$:\n",
    "$$x(t) = Icos(2\\pi ft) + Qsin(2\\pi ft)$$\n",
    "Using the trig. identity:\n",
    "$$x(t) = Acos(x - \\phi)$$\n",
    "\n",
    "When we add the two functions, we get another pure sine wave, with a diff. phase & ampl. This allows for an easier control of the resulting sine wave's phase & ampl, as we only have to change I & Q to create (approx.) any sine wave.\n",
    "\n",
    "## Complex numbers\n",
    "Complex Nu,bers have a magnitude and a phase (See the complex as a vector not a point).\n",
    "\n",
    "For a given Complex $a+bj$,\n",
    "$$\\text{magnitude} = \\sqrt{a^2 + b^2}$$\n",
    "$$phase = tan^{-1}(\\frac{b}{a})$$\n",
    "\n",
    "In python,\n",
    "```py\n",
    "np.abs(x)  # Gives the magnitude\n",
    "np.angle(x)  # Gives the phase\n",
    "```\n",
    "\n",
    "**Relation to IQ**: I is represented by the real part, Q by the imaginary."
   ]
  },
  {
   "cell_type": "markdown",
   "id": "70072e82",
   "metadata": {},
   "source": [
    "## Complex Numbers in FFTs\n",
    "FFTs output an array of complex numbers, each with phase & magnitude. This allows for the reconstruction of the original signal."
   ]
  },
  {
   "cell_type": "markdown",
   "id": "901f639d",
   "metadata": {},
   "source": [
    "### Receiver Side\n",
    "When a receiver (FM/...) receives a real signal, we transform this signal into *IQ* values. These are sampled individually and combined into a complex number $I + jQ$. E.g. With sampling rate: 2MHz sample rate means 2 million IQ samples per second.\n",
    "\n",
    "In Practice, we do not need to manually separate the I & Q. The SDR does that for us. Same goes for the other way, we only need to provide I & Q samples for the transmission."
   ]
  },
  {
   "cell_type": "markdown",
   "id": "bc586ca1",
   "metadata": {},
   "source": [
    "### Carrier & Downconversion\n",
    "**Carrier**: Frequency of the sine wave actually sent through the air. It \"carries\" the information at a given frequency.\n",
    "\n",
    "E.g.: Wifi, Bluetooth, ... Usually use carriers between 100MHz & 6GHz.\n",
    "\n",
    "Changing the IQ values quickly and transmitting is call \"Modulating\" the carrier. By changing I & Q, we change the phase & amplitude of the carrier. An other option is to change the frequency, in FM radio for example.\n",
    "\n",
    "Downconversion: Sampling a 2.4GHz signal would require a samplig rate of 4.8GHz, which is really expensive. Instead, we downconvert to signal, to sample it around DC, 0Hz.\n",
    "\n",
    "Most signals are are 100kHz to 40MHz wide in bandwidth. We can then sample at a much lower rate (~80MHz at most).\n",
    "\n",
    "The downconversion is performed by the SDR. We don't have to do anything else than telling it which frequency to tune to."
   ]
  },
  {
   "cell_type": "markdown",
   "id": "825d15a9",
   "metadata": {},
   "source": [
    "### Receiver Architecture\n",
    "**Direct Conversion** (Zero IF): Downconvert the signal and split it into I & Q.<br/>\n",
    "**Direct Sampling** (Direct RF): Sample fast enough to capture everything from 0Hz to 1/2 sample rate. => Requires Expensive ADC chip.<br/>\n",
    "**Superheterodyne**: Downconversion but not all the way to zero. It places the signal at an intermediate frequency; IF. \n",
    "\n",
    "low noise amplifier (LNA): amplifier designed for extremely low power signals."
   ]
  },
  {
   "cell_type": "markdown",
   "id": "2f0a80c9",
   "metadata": {},
   "source": [
    "### Baseband & Bandpass Signals\n",
    "Signal centered around 0Hz => \"Baseband\". \"Bandpass\"; signal existing at some RF frequency nowhere near 0, shifted up for the purpose of Wireless transmission.\n",
    "\n",
    "Most of the time, IQ signals are at baseband frequency."
   ]
  },
  {
   "cell_type": "markdown",
   "id": "c20b19a1",
   "metadata": {},
   "source": [
    "### DC Spike & Offset tuning\n",
    "Often large spikes at the center of the FFT; \"DC offset\", \"DC Spike\" or \"LO Leakage\" (LO; Local Oscillator).Beceause SDR tunes to center frequency, 0Hz portion of FFT corresponds to this frequency => Spike."
   ]
  },
  {
   "cell_type": "markdown",
   "id": "6c26fa13",
   "metadata": {},
   "source": [
    "### Calculating Average Power\n",
    "W/ Discrete Complex Signal; Average power: $$P = \\frac{1}{N}\\sum^{N}_{n=1} |x[n]|^2$$\n",
    "\n",
    "In python:\n",
    "```py\n",
    "avg_pwr = np.mean(np.abs(x)**2)\n",
    "```\n",
    "\n",
    "Trick: When the signal has roughly zero mean; signal's power can be found with the variance of the samples:\n",
    "```py\n",
    "avg_pwr = np.var(x)  # Signal should have roughly zero mean\n",
    "```\n",
    "\n",
    "=> Equation for the variance: $P = \\frac{1}{N}\\sum^{N}_{n=1} |x[n]-\\mu|^2$. If $\\mu \\approx 0$, this is the same as the power."
   ]
  },
  {
   "cell_type": "markdown",
   "id": "811efae2",
   "metadata": {},
   "source": [
    "### Calculating Power Spectral Density\n",
    "We can convert a signal to the frequency domain w/ FFT => PSD (Power Spectral Density) but we need more than just the FFT;\n",
    "* Take FFT of our samples => e.g. 1024 samples -> 1024 complex floats\n",
    "* Take the magnitude of the FFT output => e.g. 1024 floats\n",
    "* Normalize; Divide by FFT size => 1024 in this case\n",
    "* Square resulting magnitude to get power\n",
    "* Convert to dB w/ $10 log_{10}()$ (Always viewed in log scale)\n",
    "* Perform FFT shift to move 0Hz to the center\n",
    "\n",
    "In python:\n",
    "```py\n",
    "Fs = 1e6  # Sampled at 1MHz\n",
    "N = 1024\n",
    "x = x[:N]  # Only use the first 1024 samples\n",
    "# Optionally, apply a window here\n",
    "# x = x * np.hamming(len(x))\n",
    "PSD = (np.abs(np.fft.ftt(x)) / N) ** 2\n",
    "PSD_log = 10.0 * np.log10(PSD)\n",
    "PSD_shifted = np.fft.fftshift(PSD_log)\n",
    "\n",
    "# We can then shift the observation window to see around the frequency we tuned to\n",
    "center_freq = 2.4e9  # Frequency we tuned our SDR to\n",
    "f = np.arrange(Fs / -2.0, Fs / 2.0, Fs / N)  # Start, Stop, Step around 0Hz\n",
    "f += center_freq  # Now add center frequency\n",
    "plt.plot(f, PSD_shifted)\n",
    "plt.show()\n",
    "```\n",
    "\n"
   ]
  },
  {
   "cell_type": "markdown",
   "id": "ffa74f03",
   "metadata": {},
   "source": [
    "# Digital Modulation\n",
    "## Symbols\n",
    "Transmit signals will be made up of \"Symbols\". Each symbol will carry some number of bits of information & we will transmit signals back to back; thousands or millions in a row.\n",
    "\n",
    "E.g. 8ns symbols with 4 symbols => 2 bits every 8ns; 250Mb/s; 4 cables for 1Gb/s<br/>\n",
    "     8ns symbols with 16 symbols => 4 bits every 8ns; 500Mb/s\n",
    "\n",
    "## Wireless symbols\n",
    "Why can't we transmit ethernet signal through the air ?\n",
    "1. Low frequencies require **huge** antennas\n",
    "2. Square waves take an excessive amount of spectrum for the bits/s. sharp changes use a large amount of bandwidth.\n",
    "\n",
    "Instead, for wireless signals, we start from a carrier, a sinusoid. We then modulate it in a certain way; what ways ?\n",
    "\n",
    "First, what are the properties we can infer on ?\n",
    "1. Amplitude\n",
    "2. Phase\n",
    "3. Frequency\n",
    "\n",
    "### Amplitude Shift Keying (ASK)\n",
    "Shift the amplitude to transmit the data; with a base amplitude of 1, we have A=1 means bit 0 & A=2 means bit 1. This is called *2-ASK*. We can use more than 2 levels (E.g. 4-ASK; each symbol carries 2 bits).\n",
    "\n",
    "How to code that ? Create a vector with N samples per symbols, then multiply this vector by a sinusoid. This modulates the signal onto a carrier (the sinusoid).\n",
    "\n",
    "### Phase Shift Keying (PSK)\n",
    "Modulate the phase in a similar manner. Simplest form; Binary PSK; with two levels of phase: *No phase change* & *180 degree phase change*.\n",
    "\n",
    "No easy to look at in time domain; we usually represent it in a complex plane;\n",
    "\n",
    "### IQ Plot/Constellation\n",
    "Representing IQ values on a complex plane shows the set of symbols that can be sent. With the example of BSPK, we'll have two dots, one in $1+0j$ & one in $-1+0j$.\n",
    "\n",
    "For PSK, we always have N ≠ phases, equally spaced around 360 degrees. Often shown on the unit circle.\n",
    "\n",
    "We can represent *ASK* on the same plane and see that 2-ASK = BSPK. We usually call it BSPK though.\n",
    "\n",
    "### Quadrature Amplitude Modulation (QAM)\n",
    "What if we combine ASK & PSK ? Looks like a grid on the IQ plane. It does not have to be a square (32-QAM can't build a square)\n",
    "\n",
    "### Frequency Shift Keying (FSK)\n",
    "Shift between ≠ sets of frequencies, where each one is a symbol. Because modulating over the carrier, the different frequencies are centered around our carrier frequency.\n",
    "\n",
    "When using FSK, critical to ask what should the spacing btw freqs. be ? this spacing is usually denoted $\\Delta f$ in Hz. We want to avoid overlap in frequency domain so it must be large enough."
   ]
  },
  {
   "cell_type": "markdown",
   "id": "4c0fde8f",
   "metadata": {},
   "source": [
    "## Differential coding\n",
    "Do not transmit the data, transmit the changes.\n",
    "\n",
    "```py\n",
    "before_diff = [1, 1, 0, 0, 0, 1, 0]\n",
    "after_diff = [1, 0, 1, 1, 1, 1, 0, 0]\n",
    "```\n",
    "\n",
    "Big downside: One bit error leads to two bits error."
   ]
  }
 ],
 "metadata": {
  "kernelspec": {
   "display_name": "Python 3 (ipykernel)",
   "language": "python",
   "name": "python3"
  },
  "language_info": {
   "codemirror_mode": {
    "name": "ipython",
    "version": 3
   },
   "file_extension": ".py",
   "mimetype": "text/x-python",
   "name": "python",
   "nbconvert_exporter": "python",
   "pygments_lexer": "ipython3",
   "version": "3.10.8"
  }
 },
 "nbformat": 4,
 "nbformat_minor": 5
}
